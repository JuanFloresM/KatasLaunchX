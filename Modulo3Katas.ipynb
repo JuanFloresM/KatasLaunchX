{
 "cells": [
  {
   "cell_type": "markdown",
   "metadata": {},
   "source": [
    "# Ejercicio - Escribir declaraciones if, else y elif\n",
    "Añadir el código necesario para crear una variable que guarde la velocidad del asteroide.\n",
    "\n",
    "Escribe una expresión de prueba para calcular si necesita una advertencia.\n",
    "\n",
    "Agregue las instrucciones que se ejecutarán si la expresión de prueba es true o false.\n"
   ]
  },
  {
   "cell_type": "code",
   "execution_count": 2,
   "metadata": {},
   "outputs": [
    {
     "name": "stdout",
     "output_type": "stream",
     "text": [
      "Cuidado!, se acerca un asteroide demasiado rapido!!\n"
     ]
    }
   ],
   "source": [
    "vel_asteroide1=49\n",
    "if vel_asteroide1>25:\n",
    "    print('Cuidado!, se acerca un asteroide demasiado rapido!!')\n",
    "else:\n",
    "    print('El asteroide no presenta ningun peligro')"
   ]
  },
  {
   "cell_type": "markdown",
   "metadata": {},
   "source": [
    "Agrega el código para crear una variable para un asteroide que viaja a 19 km/s.\n",
    "\n",
    "Escribe varias expresiones de prueba para determinar si puedes ver el rayo de luz desde la tierra\n",
    "\n",
    "Agrega las instrucciones que se ejecutarán si las expresiones de prueba son True o False"
   ]
  },
  {
   "cell_type": "code",
   "execution_count": 3,
   "metadata": {},
   "outputs": [
    {
     "name": "stdout",
     "output_type": "stream",
     "text": [
      ".....\n"
     ]
    }
   ],
   "source": [
    "vel_asteroide2 = 19\n",
    "if vel_asteroide2 >=20:\n",
    "    print(\"Mira, un asteroide!!!!\")\n",
    "else:\n",
    "    print(\".....\")"
   ]
  },
  {
   "cell_type": "markdown",
   "metadata": {},
   "source": [
    "# Ejercicio: Uso de operadores and y or\n"
   ]
  },
  {
   "cell_type": "code",
   "execution_count": 4,
   "metadata": {},
   "outputs": [
    {
     "name": "stdout",
     "output_type": "stream",
     "text": [
      " Mira un asteroide :O !!!\n"
     ]
    }
   ],
   "source": [
    "tam_asteroide=25\n",
    "vel_asteroide=26\n",
    "if (vel_asteroide>25 and tam_asteroide>25):\n",
    "    print(\"Se acerca un asteroide muy peligroso!!!\")\n",
    "elif(vel_asteroide>25):\n",
    "    print(\" Mira un asteroide :O !!!\")\n",
    "elif(tam_asteroide>25):\n",
    "    print(\"Un asteroide muy grande se acerca!!!\")\n",
    "else:\n",
    "    print(\"....Un meteorito se acerca, pero no es peligroso\")\n",
    "    "
   ]
  }
 ],
 "metadata": {
  "interpreter": {
   "hash": "d406864f2ee78ecc67afccccd0a48c216f41ca3a0f9ca739a0b9d8b15ae422ba"
  },
  "kernelspec": {
   "display_name": "Python 3.10.0 64-bit",
   "language": "python",
   "name": "python3"
  },
  "language_info": {
   "codemirror_mode": {
    "name": "ipython",
    "version": 3
   },
   "file_extension": ".py",
   "mimetype": "text/x-python",
   "name": "python",
   "nbconvert_exporter": "python",
   "pygments_lexer": "ipython3",
   "version": "3.10.0"
  },
  "orig_nbformat": 4
 },
 "nbformat": 4,
 "nbformat_minor": 2
}
