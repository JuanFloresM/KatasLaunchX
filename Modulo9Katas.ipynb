{
 "cells": [
  {
   "cell_type": "markdown",
   "metadata": {},
   "source": [
    "# Ejercicio: Uso de funciones en Python"
   ]
  },
  {
   "cell_type": "code",
   "execution_count": 118,
   "metadata": {},
   "outputs": [],
   "source": [
    "def lectura_combustible(comb1, comb2, comb3):\n",
    "    if(comb1 != 0 and comb2 != 0 and comb3 != 0):\n",
    "        prom=(comb1+comb2+comb3)/3\n",
    "    else:\n",
    "        prom=0\n",
    "    return f\"\"\"\n",
    "        Los niveles de  combustible de la nave son los siguientes\n",
    "        Tanque 1: {comb1}\n",
    "        Tanque 2: {comb2}\n",
    "        Tanque 3: {comb3}\n",
    "        Promedio de combustible en los tanques: {prom}\n",
    "        \"\"\"\n"
   ]
  },
  {
   "cell_type": "code",
   "execution_count": 119,
   "metadata": {},
   "outputs": [
    {
     "name": "stdout",
     "output_type": "stream",
     "text": [
      "\n",
      "        Los niveles de  combustible de la nave son los siguientes\n",
      "        Tanque 1: 0\n",
      "        Tanque 2: 0\n",
      "        Tanque 3: 0\n",
      "        Promedio de combustible en los tanques: 0\n",
      "        \n"
     ]
    }
   ],
   "source": [
    "print(lectura_combustible(0,0,0))"
   ]
  },
  {
   "cell_type": "code",
   "execution_count": 120,
   "metadata": {},
   "outputs": [],
   "source": [
    "def promedio(*args):\n",
    "    if(sum(args)>0):\n",
    "        return sum(args)/len(args) \n",
    "    else:\n",
    "        return 0\n",
    "    "
   ]
  },
  {
   "cell_type": "code",
   "execution_count": 121,
   "metadata": {},
   "outputs": [],
   "source": [
    "#Actualización del metodo\n",
    "def lectura_combustible(comb1, comb2, comb3):\n",
    "    prom=promedio(comb1, comb2, comb3)\n",
    "    return f\"\"\"\n",
    "        Los niveles de combustible en los tanques de la nave son los siguientes\n",
    "        Tanque 1: {comb1}\n",
    "        Tanque 2: {comb2}\n",
    "        Tanque 3: {comb3}\n",
    "        Promedio de combustible en los tanques: {prom}\n",
    "        \"\"\""
   ]
  },
  {
   "cell_type": "code",
   "execution_count": 122,
   "metadata": {},
   "outputs": [
    {
     "name": "stdout",
     "output_type": "stream",
     "text": [
      "\n",
      "        Los niveles de combustible en los tanques de la nave son los siguientes\n",
      "        Tanque 1: 0\n",
      "        Tanque 2: 0\n",
      "        Tanque 3: 0\n",
      "        Promedio de combustible en los tanques: 0\n",
      "        \n",
      "\n",
      "        Los niveles de combustible en los tanques de la nave son los siguientes\n",
      "        Tanque 1: 10\n",
      "        Tanque 2: 10\n",
      "        Tanque 3: 100\n",
      "        Promedio de combustible en los tanques: 40.0\n",
      "        \n"
     ]
    }
   ],
   "source": [
    "#Pruebas\n",
    "print(lectura_combustible(0,0,0))\n",
    "print(lectura_combustible(10,10,100))"
   ]
  },
  {
   "cell_type": "markdown",
   "metadata": {},
   "source": [
    "# Ejercicio 2: Trabajo con argumentos de palabra clave"
   ]
  },
  {
   "cell_type": "code",
   "execution_count": 123,
   "metadata": {},
   "outputs": [
    {
     "name": "stdout",
     "output_type": "stream",
     "text": [
      "\n",
      "        Destino: Marte.\n",
      "        Tiempo de llegada: 50 min.\n",
      "        Combustible de la nave: 100 galones.\n",
      "    \n"
     ]
    }
   ],
   "source": [
    "def informe(tiempo, combustible, destino):\n",
    "    return f\"\"\"\n",
    "        Destino: {destino}.\n",
    "        Tiempo de llegada: {tiempo} min.\n",
    "        Combustible de la nave: {combustible} galones.\n",
    "    \"\"\"\n",
    "\n",
    "print(informe(50,100,'Marte'))"
   ]
  },
  {
   "cell_type": "code",
   "execution_count": 124,
   "metadata": {},
   "outputs": [
    {
     "name": "stdout",
     "output_type": "stream",
     "text": [
      "\n",
      "        Destino: Marte.\n",
      "        Tiempo de llegada: 150 min.\n",
      "        Combustible de la nave: 1800 galones\n",
      "    \n"
     ]
    }
   ],
   "source": [
    "#Actualización de la función\n",
    "def informe(destino, *tiempo, **combustible):\n",
    "    return f\"\"\"\n",
    "        Destino: {destino}.\n",
    "        Tiempo de llegada: {sum(*tiempo)} min.\n",
    "        Combustible de la nave: {sum(combustible.values())} galones\n",
    "    \"\"\"\n",
    "    \n",
    "print(informe('Marte', [10,30,50,60], principal=900, reserva=900))"
   ]
  },
  {
   "cell_type": "code",
   "execution_count": 125,
   "metadata": {},
   "outputs": [
    {
     "name": "stdout",
     "output_type": "stream",
     "text": [
      "\n",
      "        Destino: Marte.\n",
      "        Tiempo de llegada: 150 min.\n",
      "        Combustible de la nave: \n",
      "\tTanque principal: 900 galones\n",
      "\tTanque reserva: 900 galones\n",
      "\t\n",
      "    \n"
     ]
    }
   ],
   "source": [
    "#Actualización de la función \n",
    "def informe(destino, *tiempo, **combustible):\n",
    "    tanques=\"Combustible de la nave: \\n\\t\"\n",
    "    for tanque, valor in combustible.items():\n",
    "        tanques+=f\"Tanque {tanque}: {valor} galones\\n\\t\"\n",
    "    return f\"\"\"\n",
    "        Destino: {destino}.\n",
    "        Tiempo de llegada: {sum(*tiempo)} min.\n",
    "        {tanques}\n",
    "    \"\"\"\n",
    "    \n",
    "print(informe('Marte', [10,30,50,60], principal=900, reserva=900))"
   ]
  }
 ],
 "metadata": {
  "interpreter": {
   "hash": "fe06f96167c4fc64a78c238d993189072a4e72b444216e36203d6f96126eaf0a"
  },
  "kernelspec": {
   "display_name": "Python 3.9.6 64-bit",
   "language": "python",
   "name": "python3"
  },
  "language_info": {
   "codemirror_mode": {
    "name": "ipython",
    "version": 3
   },
   "file_extension": ".py",
   "mimetype": "text/x-python",
   "name": "python",
   "nbconvert_exporter": "python",
   "pygments_lexer": "ipython3",
   "version": "3.9.6"
  },
  "orig_nbformat": 4
 },
 "nbformat": 4,
 "nbformat_minor": 2
}
