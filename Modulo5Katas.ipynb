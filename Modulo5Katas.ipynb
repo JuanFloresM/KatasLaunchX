{
 "cells": [
  {
   "cell_type": "markdown",
   "metadata": {},
   "source": [
    "# Ejercicio 1 - Utilizar operadores aritméticos"
   ]
  },
  {
   "cell_type": "code",
   "execution_count": 26,
   "metadata": {},
   "outputs": [],
   "source": [
    "#Declaración de variables\n",
    "distancia_tierra=149597870\n",
    "distancia_jupiter=778547200"
   ]
  },
  {
   "cell_type": "code",
   "execution_count": 27,
   "metadata": {},
   "outputs": [
    {
     "name": "stdout",
     "output_type": "stream",
     "text": [
      "628949330\n",
      "390577534\n"
     ]
    }
   ],
   "source": [
    "#resta y conversión\n",
    "dist_planetas=distancia_jupiter-distancia_tierra\n",
    "print(dist_planetas)\n",
    "print(round(dist_planetas*0.621))"
   ]
  },
  {
   "cell_type": "markdown",
   "metadata": {},
   "source": [
    "# Ejercicio 2: Convierte cadenas en números y usa valores absolutos"
   ]
  },
  {
   "cell_type": "code",
   "execution_count": 28,
   "metadata": {},
   "outputs": [],
   "source": [
    "#Leer valores\n",
    "planeta1=input(\"Distancia del planeta 1 \")\n",
    "planeta2=input(\"Distancia del planeta 2: \")"
   ]
  },
  {
   "cell_type": "code",
   "execution_count": 29,
   "metadata": {},
   "outputs": [],
   "source": [
    "#Conversion a enteros\n",
    "planeta1=int(planeta1)\n",
    "planeta2=int(planeta2)"
   ]
  },
  {
   "cell_type": "code",
   "execution_count": 30,
   "metadata": {},
   "outputs": [
    {
     "name": "stdout",
     "output_type": "stream",
     "text": [
      "La disntacia entre los planetas en Km es: 50300000\n",
      "La distancia entre los planetas en millas es: 31236300.0\n"
     ]
    }
   ],
   "source": [
    "#Calulo y valor absoluto\n",
    "distancia=abs(planeta1-planeta2)\n",
    "print(\"La disntacia entre los planetas en Km es: \"+str(distancia))\n",
    "#convertir a millas\n",
    "distancia*=0.621\n",
    "print(\"La distancia entre los planetas en millas es: \"+str(distancia))"
   ]
  }
 ],
 "metadata": {
  "interpreter": {
   "hash": "d406864f2ee78ecc67afccccd0a48c216f41ca3a0f9ca739a0b9d8b15ae422ba"
  },
  "kernelspec": {
   "display_name": "Python 3.10.0 64-bit",
   "language": "python",
   "name": "python3"
  },
  "language_info": {
   "codemirror_mode": {
    "name": "ipython",
    "version": 3
   },
   "file_extension": ".py",
   "mimetype": "text/x-python",
   "name": "python",
   "nbconvert_exporter": "python",
   "pygments_lexer": "ipython3",
   "version": "3.10.0"
  },
  "orig_nbformat": 4
 },
 "nbformat": 4,
 "nbformat_minor": 2
}
